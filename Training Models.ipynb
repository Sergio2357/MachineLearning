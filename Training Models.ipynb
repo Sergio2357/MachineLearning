{
 "cells": [
  {
   "cell_type": "markdown",
   "metadata": {},
   "source": [
    "# Training Models\n",
    "\n",
    "## Topics:\n",
    "   * Linear Regression\n",
    "       * Normal Equation\n",
    "       * Gradient Descent\n",
    "       * Batch Gradient Descent\n",
    "       * Stochastic Gradient Descent\n",
    "       * Mini-batch Gradient Descent\n",
    "       * **Polynomial Regression**\n",
    "       * Regularized Linear Models\n",
    "           * *Ridge*\n",
    "           * *Lasso*\n",
    "           * *Elastic Net*\n",
    "           * *Early Stopping*\n",
    "   * Logistic Regression\n",
    "   * Softmax Regression"
   ]
  },
  {
   "cell_type": "markdown",
   "metadata": {},
   "source": [
    "**1. Linear Regression**"
   ]
  },
  {
   "cell_type": "markdown",
   "metadata": {},
   "source": [
    "Linear Regression model prediction\n",
    "\n",
    "$\\hat{y}= \\theta_{0} + \\theta _{1}x_{1} +  \\theta _{2}x_{2} + \\cdot \\cdot \\cdot +\\theta _{n}x_{n}$\n",
    "\n",
    "Vectorized form\n",
    "\n",
    "$\\hat{y}= h_{\\theta }(x) =  \\theta \\cdot x$\n",
    "\n",
    "MSE cost function for a lineal regression model\n",
    "\n",
    "$MSE(X,h_{\\theta }) = \\frac{1}{m}\\sum_{1}^{m}(\\theta ^{T}x^{(i)}-y^{(i)})^{2}$"
   ]
  },
  {
   "cell_type": "markdown",
   "metadata": {},
   "source": [
    "**The Normal Equation**\n",
    "\n",
    "There is _closed-form-solution_ that is a mathematical equation that gives the result directly but has a computational complexity about $O(n^{2.4})$ to $O(n^{3})$, so it`s usefull only in small datasets.\n",
    "\n",
    "$\\hat{\\theta} = (X^{T}X)^{-1} X^{T}y$"
   ]
  },
  {
   "cell_type": "code",
   "execution_count": 5,
   "metadata": {},
   "outputs": [],
   "source": [
    "import numpy as np\n",
    "import matplotlib.pyplot as plt\n",
    "\n",
    "X = 2 * np.random.rand(100,1)\n",
    "y = 4 + 3*X + np.random.randn(100,1)"
   ]
  },
  {
   "cell_type": "code",
   "execution_count": 2,
   "metadata": {},
   "outputs": [
    {
     "data": {
      "text/plain": [
       "array([[3.60142754],\n",
       "       [3.29498087]])"
      ]
     },
     "execution_count": 2,
     "metadata": {},
     "output_type": "execute_result"
    }
   ],
   "source": [
    "X_b = np.c_[np.ones((100,1)), X] #add X0 = 1 to each instance\n",
    "theta_best = np.linalg.inv(X_b.T.dot(X_b)).dot(X_b.T).dot(y)\n",
    "theta_best"
   ]
  },
  {
   "cell_type": "code",
   "execution_count": 3,
   "metadata": {},
   "outputs": [
    {
     "data": {
      "text/plain": [
       "array([[ 3.60142754],\n",
       "       [10.19138928]])"
      ]
     },
     "execution_count": 3,
     "metadata": {},
     "output_type": "execute_result"
    }
   ],
   "source": [
    "X_new = np.array([[0],[2]])\n",
    "X_new_b = np.c_[np.ones((2,1)), X_new] #add X0 = 1 to each instance\n",
    "y_predict = X_new_b.dot(theta_best)\n",
    "y_predict"
   ]
  },
  {
   "cell_type": "code",
   "execution_count": 6,
   "metadata": {},
   "outputs": [
    {
     "data": {
      "image/png": "[encoded data removed]",
      "text/plain": [
       "<Figure size 432x288 with 1 Axes>"
      ]
     },
     "metadata": {
      "needs_background": "light"
     },
     "output_type": "display_data"
    }
   ],
   "source": [
    "plt.plot(X_new, y_predict, 'r-')\n",
    "plt.plot(X, y, \"b.\")\n",
    "plt.axis([0, 2, 0, 15])\n",
    "plt.show()"
   ]
  },
  {
   "cell_type": "code",
   "execution_count": 7,
   "metadata": {},
   "outputs": [
    {
     "data": {
      "text/plain": [
       "(array([4.02399368]), array([[3.10699406]]))"
      ]
     },
     "execution_count": 7,
     "metadata": {},
     "output_type": "execute_result"
    }
   ],
   "source": [
    "# with Scikit-Learn\n",
    "from sklearn.linear_model import LinearRegression\n",
    "\n",
    "lin_reg = LinearRegression()\n",
    "lin_reg.fit(X,y)\n",
    "lin_reg.intercept_, lin_reg.coef_"
   ]
  },
  {
   "cell_type": "code",
   "execution_count": 8,
   "metadata": {},
   "outputs": [
    {
     "data": {
      "text/plain": [
       "array([[ 7.73034704],\n",
       "       [-0.39950841]])"
      ]
     },
     "execution_count": 8,
     "metadata": {},
     "output_type": "execute_result"
    }
   ],
   "source": [
    "theta_best_svd, residuals, rank, s = np.linalg.lstsq(X_b, y, rcond=1e-6)\n",
    "theta_best_svd"
   ]
  },
  {
   "cell_type": "code",
   "execution_count": 9,
   "metadata": {},
   "outputs": [
    {
     "data": {
      "text/plain": [
       "array([[ 7.73034704],\n",
       "       [-0.39950841]])"
      ]
     },
     "execution_count": 9,
     "metadata": {},
     "output_type": "execute_result"
    }
   ],
   "source": [
    "np.linalg.pinv(X_b).dot(y)"
   ]
  },
  {
   "cell_type": "markdown",
   "metadata": {},
   "source": [
    "**2. Gradient Descent**\n",
    "\n",
    "To implement GD, we need to compute the gradient ot he cost function with regard to each model parameter $\\theta_{j}$. In other words, calculate how much the cost function will change if we change the parameters just a little bit. (*Partial derivatives*)\n",
    "\n",
    "$\\frac{\\partial }{\\partial \\theta _{j}}MSE(\\theta ) = \\frac{2}{m}\\sum_{1}^{m}(\\theta ^{T}x^{(i)}-y^{(i)})x_{j}^{(i)}$\n",
    "\n",
    "$\\theta ^{(next step)} = \\theta - \\eta \\bigtriangledown _{\\theta }MSE(\\theta )$"
   ]
  },
  {
   "cell_type": "code",
   "execution_count": 10,
   "metadata": {},
   "outputs": [
    {
     "data": {
      "text/plain": [
       "array([[ 7.58970931],\n",
       "       [-0.27054505]])"
      ]
     },
     "execution_count": 10,
     "metadata": {},
     "output_type": "execute_result"
    }
   ],
   "source": [
    "eta = 0.1 #learning rate\n",
    "n_iterations = 1000\n",
    "m = 1000\n",
    "\n",
    "theta = np.random.randn(2,1)\n",
    "\n",
    "for iteration in range(n_iterations):\n",
    "    gradients = 2/m * X_b.T.dot(X_b.dot(theta) - y)\n",
    "    theta = theta - eta * gradients\n",
    "theta"
   ]
  },
  {
   "cell_type": "code",
   "execution_count": null,
   "metadata": {},
   "outputs": [],
   "source": []
  }
 ],
 "metadata": {
  "kernelspec": {
   "display_name": "Python 3",
   "language": "python",
   "name": "python3"
  },
  "language_info": {
   "codemirror_mode": {
    "name": "ipython",
    "version": 3
   },
   "file_extension": ".py",
   "mimetype": "text/x-python",
   "name": "python",
   "nbconvert_exporter": "python",
   "pygments_lexer": "ipython3",
   "version": "3.8.1"
  }
 },
 "nbformat": 4,
 "nbformat_minor": 4
}
